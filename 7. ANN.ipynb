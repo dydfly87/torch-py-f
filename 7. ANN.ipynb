{
 "cells": [
  {
   "cell_type": "markdown",
   "metadata": {},
   "source": [
    "# 1. 导入相关库"
   ]
  },
  {
   "cell_type": "code",
   "execution_count": 104,
   "metadata": {},
   "outputs": [],
   "source": [
    "import torch\n",
    "import torch.nn as nn\n",
    "from torch.utils.data import Dataset, DataLoader\n",
    "import torchvision.transforms as transforms\n",
    "import numpy as np\n",
    "import pandas as pd\n",
    "import matplotlib.pyplot as plt\n",
    "import math\n",
    "\n",
    "from sklearn.preprocessing import MinMaxScaler\n",
    "\n",
    "# Device configuration\n",
    "device = torch.device('cuda:0' if torch.cuda.is_available() else 'cpu')"
   ]
  },
  {
   "cell_type": "markdown",
   "metadata": {},
   "source": [
    "# 2. 设计数据类"
   ]
  },
  {
   "cell_type": "markdown",
   "metadata": {},
   "source": [
    "dataset = Dataset(normClosePrice,lookback)      \n",
    "dataloader = DataLoader(dataset = dataset, batch_size = batch_size, shuffle=True)   \n",
    "\n",
    "for i, (x,y) in enumerate(dataloader):    "
   ]
  },
  {
   "cell_type": "code",
   "execution_count": 105,
   "metadata": {},
   "outputs": [],
   "source": [
    "class Dataset(Dataset):\n",
    "    \n",
    "    def __init__(self, stock, lookback=20, flag=\"train\"):\n",
    "        data_raw = stock.to_numpy() \n",
    "        data = []\n",
    "\n",
    "        # you can free play（seq_length）\n",
    "        for index in range(len(data_raw) - lookback): \n",
    "            data.append(data_raw[index: index + lookback])\n",
    "\n",
    "        data = np.array(data)\n",
    "        test_set_size = int(np.round(0.2 * data.shape[0]))\n",
    "        train_set_size = data.shape[0] - (test_set_size)\n",
    "        \n",
    "        if flag == \"train\":\n",
    "            self.x = data[:train_set_size,:-1,:]\n",
    "            self.y = data[:train_set_size,-1,0:1]\n",
    "            self.n_samples = len(self.x)\n",
    "        else:\n",
    "            self.x = data[train_set_size:,:-1,:]\n",
    "            self.y = data[train_set_size:,-1,0:1]\n",
    "            self.n_samples = len(self.x)\n",
    "            \n",
    "    \n",
    "    def __getitem__(self,index):\n",
    "        return self.x[index], self.y[index]\n",
    "    \n",
    "    \n",
    "    def __len__(self):\n",
    "        return self.n_samples"
   ]
  },
  {
   "cell_type": "markdown",
   "metadata": {},
   "source": [
    "# 3. 自定义模型"
   ]
  },
  {
   "cell_type": "code",
   "execution_count": 106,
   "metadata": {},
   "outputs": [],
   "source": [
    "class NeuralNet(nn.Module):\n",
    "    def __init__(self, input_size, output_size):\n",
    "        super(NeuralNet,self).__init__()\n",
    "        self.l1 = nn.Linear(input_size, 24)\n",
    "        self.bn1 = nn.BatchNorm1d(24)\n",
    "        self.relu = nn.ReLU()\n",
    "        self.l2 = nn.Linear(24,48)\n",
    "        self.bn2 = nn.BatchNorm1d(48)\n",
    "        self.l3 = nn.Linear(48,36)\n",
    "        self.bn3 = nn.BatchNorm1d(36)\n",
    "        self.l4 = nn.Linear(36,8)\n",
    "        self.bn4 = nn.BatchNorm1d(8)\n",
    "        self.l5 = nn.Linear(8,output_size)\n",
    "    \n",
    "    def forward(self, x):\n",
    "        out = self.l1(x)\n",
    "        out = self.bn1(out)\n",
    "        out = self.relu(out)\n",
    "        out = self.l2(out)\n",
    "        out = self.bn2(out)\n",
    "        out = self.relu(out)\n",
    "        out = self.l3(out)\n",
    "        out = self.relu(out)\n",
    "        out = self.l4(out)\n",
    "        out = self.relu(out)\n",
    "        out = self.l5(out)\n",
    "        return out\n"
   ]
  },
  {
   "cell_type": "markdown",
   "metadata": {},
   "source": [
    "# 4. 训练过程"
   ]
  },
  {
   "cell_type": "code",
   "execution_count": 107,
   "metadata": {},
   "outputs": [
    {
     "data": {
      "text/html": [
       "<div>\n",
       "<style scoped>\n",
       "    .dataframe tbody tr th:only-of-type {\n",
       "        vertical-align: middle;\n",
       "    }\n",
       "\n",
       "    .dataframe tbody tr th {\n",
       "        vertical-align: top;\n",
       "    }\n",
       "\n",
       "    .dataframe thead th {\n",
       "        text-align: right;\n",
       "    }\n",
       "</style>\n",
       "<table border=\"1\" class=\"dataframe\">\n",
       "  <thead>\n",
       "    <tr style=\"text-align: right;\">\n",
       "      <th></th>\n",
       "      <th>Open</th>\n",
       "      <th>High</th>\n",
       "      <th>Low</th>\n",
       "      <th>Close</th>\n",
       "      <th>Adj Close</th>\n",
       "      <th>Volume</th>\n",
       "    </tr>\n",
       "    <tr>\n",
       "      <th>Date</th>\n",
       "      <th></th>\n",
       "      <th></th>\n",
       "      <th></th>\n",
       "      <th></th>\n",
       "      <th></th>\n",
       "      <th></th>\n",
       "    </tr>\n",
       "  </thead>\n",
       "  <tbody>\n",
       "    <tr>\n",
       "      <th>2016-11-02</th>\n",
       "      <td>778.200012</td>\n",
       "      <td>781.650024</td>\n",
       "      <td>763.450012</td>\n",
       "      <td>768.700012</td>\n",
       "      <td>768.700012</td>\n",
       "      <td>1872400</td>\n",
       "    </tr>\n",
       "    <tr>\n",
       "      <th>2016-11-03</th>\n",
       "      <td>767.250000</td>\n",
       "      <td>769.950012</td>\n",
       "      <td>759.030029</td>\n",
       "      <td>762.130005</td>\n",
       "      <td>762.130005</td>\n",
       "      <td>1943200</td>\n",
       "    </tr>\n",
       "    <tr>\n",
       "      <th>2016-11-04</th>\n",
       "      <td>750.659973</td>\n",
       "      <td>770.359985</td>\n",
       "      <td>750.560974</td>\n",
       "      <td>762.020020</td>\n",
       "      <td>762.020020</td>\n",
       "      <td>2134800</td>\n",
       "    </tr>\n",
       "    <tr>\n",
       "      <th>2016-11-07</th>\n",
       "      <td>774.500000</td>\n",
       "      <td>785.190002</td>\n",
       "      <td>772.549988</td>\n",
       "      <td>782.520020</td>\n",
       "      <td>782.520020</td>\n",
       "      <td>1585100</td>\n",
       "    </tr>\n",
       "    <tr>\n",
       "      <th>2016-11-08</th>\n",
       "      <td>783.400024</td>\n",
       "      <td>795.632996</td>\n",
       "      <td>780.190002</td>\n",
       "      <td>790.510010</td>\n",
       "      <td>790.510010</td>\n",
       "      <td>1350800</td>\n",
       "    </tr>\n",
       "  </tbody>\n",
       "</table>\n",
       "</div>"
      ],
      "text/plain": [
       "                  Open        High         Low       Close   Adj Close  \\\n",
       "Date                                                                     \n",
       "2016-11-02  778.200012  781.650024  763.450012  768.700012  768.700012   \n",
       "2016-11-03  767.250000  769.950012  759.030029  762.130005  762.130005   \n",
       "2016-11-04  750.659973  770.359985  750.560974  762.020020  762.020020   \n",
       "2016-11-07  774.500000  785.190002  772.549988  782.520020  782.520020   \n",
       "2016-11-08  783.400024  795.632996  780.190002  790.510010  790.510010   \n",
       "\n",
       "             Volume  \n",
       "Date                 \n",
       "2016-11-02  1872400  \n",
       "2016-11-03  1943200  \n",
       "2016-11-04  2134800  \n",
       "2016-11-07  1585100  \n",
       "2016-11-08  1350800  "
      ]
     },
     "execution_count": 107,
     "metadata": {},
     "output_type": "execute_result"
    }
   ],
   "source": [
    "data = pd.read_csv('data/rlData.csv', index_col=0)\n",
    "data.head(5)"
   ]
  },
  {
   "cell_type": "markdown",
   "metadata": {},
   "source": [
    "特征工程"
   ]
  },
  {
   "cell_type": "code",
   "execution_count": 108,
   "metadata": {},
   "outputs": [
    {
     "data": {
      "text/html": [
       "<div>\n",
       "<style scoped>\n",
       "    .dataframe tbody tr th:only-of-type {\n",
       "        vertical-align: middle;\n",
       "    }\n",
       "\n",
       "    .dataframe tbody tr th {\n",
       "        vertical-align: top;\n",
       "    }\n",
       "\n",
       "    .dataframe thead th {\n",
       "        text-align: right;\n",
       "    }\n",
       "</style>\n",
       "<table border=\"1\" class=\"dataframe\">\n",
       "  <thead>\n",
       "    <tr style=\"text-align: right;\">\n",
       "      <th></th>\n",
       "      <th>0</th>\n",
       "    </tr>\n",
       "  </thead>\n",
       "  <tbody>\n",
       "    <tr>\n",
       "      <th>0</th>\n",
       "      <td>-0.774584</td>\n",
       "    </tr>\n",
       "    <tr>\n",
       "      <th>1</th>\n",
       "      <td>-0.819985</td>\n",
       "    </tr>\n",
       "    <tr>\n",
       "      <th>2</th>\n",
       "      <td>-0.820745</td>\n",
       "    </tr>\n",
       "    <tr>\n",
       "      <th>3</th>\n",
       "      <td>-0.679082</td>\n",
       "    </tr>\n",
       "    <tr>\n",
       "      <th>4</th>\n",
       "      <td>-0.623868</td>\n",
       "    </tr>\n",
       "  </tbody>\n",
       "</table>\n",
       "</div>"
      ],
      "text/plain": [
       "          0\n",
       "0 -0.774584\n",
       "1 -0.819985\n",
       "2 -0.820745\n",
       "3 -0.679082\n",
       "4 -0.623868"
      ]
     },
     "execution_count": 108,
     "metadata": {},
     "output_type": "execute_result"
    }
   ],
   "source": [
    "closePrice = data[['Close']]\n",
    "scaler = MinMaxScaler((-1,1)) \n",
    "scaler.fit(closePrice)\n",
    "normClosePrice = scaler.transform(closePrice)\n",
    "normClosePrice = pd.DataFrame(normClosePrice)\n",
    "normClosePrice.head()"
   ]
  },
  {
   "cell_type": "code",
   "execution_count": 109,
   "metadata": {
    "scrolled": true
   },
   "outputs": [
    {
     "name": "stdout",
     "output_type": "stream",
     "text": [
      "Epoch [10/50], Step [1/3], Loss: 0.30589\n",
      "Epoch [10/50], Step [2/3], Loss: 0.28055\n",
      "Epoch [10/50], Step [3/3], Loss: 0.21083\n",
      "Epoch [20/50], Step [1/3], Loss: 0.19033\n",
      "Epoch [20/50], Step [2/3], Loss: 0.24011\n",
      "Epoch [20/50], Step [3/3], Loss: 0.23441\n",
      "Epoch [30/50], Step [1/3], Loss: 0.12424\n",
      "Epoch [30/50], Step [2/3], Loss: 0.14898\n",
      "Epoch [30/50], Step [3/3], Loss: 0.10656\n",
      "Epoch [40/50], Step [1/3], Loss: 0.03384\n",
      "Epoch [40/50], Step [2/3], Loss: 0.02580\n",
      "Epoch [40/50], Step [3/3], Loss: 0.01689\n",
      "Epoch [50/50], Step [1/3], Loss: 0.00849\n",
      "Epoch [50/50], Step [2/3], Loss: 0.00303\n",
      "Epoch [50/50], Step [3/3], Loss: 0.00768\n"
     ]
    }
   ],
   "source": [
    "# 超参数\n",
    "num_epochs = 50\n",
    "batch_size = 64\n",
    "learning_rate = 0.0005\n",
    "lookback = 20\n",
    "output_size = 1\n",
    "\n",
    "\n",
    "# Load data\n",
    "dataset = Dataset(normClosePrice,lookback)\n",
    "dataloader = DataLoader(dataset = dataset, batch_size = batch_size, \n",
    "                        shuffle=True)\n",
    "\n",
    "input_size = lookback - 1\n",
    "model = NeuralNet(input_size, output_size)\n",
    "# loss\n",
    "criterion = nn.MSELoss()\n",
    "# optimizer\n",
    "optimizer = torch.optim.Adam(model.parameters(), lr=learning_rate)\n",
    "\n",
    "# training loop\n",
    "n_total_steps = len(dataloader)\n",
    "for epoch in range(num_epochs):\n",
    "    model.train()\n",
    "\n",
    "    for i, (x,y) in enumerate(dataloader):\n",
    "        x = x.reshape(x.shape[0], -1).float()\n",
    "        y = y.float()\n",
    "        y_pred = model(x)\n",
    "        loss = criterion(y_pred, y)\n",
    "        optimizer.zero_grad()\n",
    "        loss.backward()\n",
    "        optimizer.step() \n",
    "\n",
    "        if (epoch+1) % 10 ==0: \n",
    "            if (i+1) % 1 == 0:\n",
    "                print(f'Epoch [{epoch+1}/{num_epochs}], Step [{i+1}/{n_total_steps}], Loss: {loss.item():.5f}')"
   ]
  },
  {
   "cell_type": "markdown",
   "metadata": {},
   "source": [
    "模型保存"
   ]
  },
  {
   "cell_type": "code",
   "execution_count": 110,
   "metadata": {},
   "outputs": [],
   "source": [
    "FILE = f'./model_ANN.pth'\n",
    "torch.save(model, FILE)"
   ]
  },
  {
   "cell_type": "markdown",
   "metadata": {},
   "source": [
    "# 5. Inference"
   ]
  },
  {
   "cell_type": "code",
   "execution_count": 111,
   "metadata": {},
   "outputs": [],
   "source": [
    "dataset = Dataset(normClosePrice,lookback, \"test\")\n",
    "input_x = dataset.x\n",
    "input_x =input_x.reshape(-1, 19)\n",
    "y_test_pred = model(torch.tensor(input_x).float())\n",
    "y_test_pred = scaler.inverse_transform(y_test_pred.detach().numpy())"
   ]
  },
  {
   "cell_type": "code",
   "execution_count": 112,
   "metadata": {},
   "outputs": [
    {
     "data": {
      "text/plain": [
       "(46, 1)"
      ]
     },
     "execution_count": 112,
     "metadata": {},
     "output_type": "execute_result"
    }
   ],
   "source": [
    "y_test = dataset.y\n",
    "y_test = scaler.inverse_transform(y_test)\n",
    "y_test.shape"
   ]
  },
  {
   "cell_type": "code",
   "execution_count": 113,
   "metadata": {},
   "outputs": [
    {
     "data": {
      "text/plain": [
       "Text(0.5, 1.0, 'Model ANN')"
      ]
     },
     "execution_count": 113,
     "metadata": {},
     "output_type": "execute_result"
    },
    {
     "data": {
      "image/png": "[encoded data removed]",
      "text/plain": [
       "<Figure size 1200x800 with 1 Axes>"
      ]
     },
     "metadata": {
      "needs_background": "light"
     },
     "output_type": "display_data"
    }
   ],
   "source": [
    "# Visualize\n",
    "fig = plt.figure(figsize=(6,4), dpi=200)\n",
    "plt.plot(y_test, label = 'actual')\n",
    "plt.plot(y_test_pred, label = 'prediction')\n",
    "\n",
    "plt.legend(loc=1)\n",
    "plt.ylabel('Price')\n",
    "plt.title('Model ANN')"
   ]
  },
  {
   "cell_type": "code",
   "execution_count": null,
   "metadata": {},
   "outputs": [],
   "source": []
  }
 ],
 "metadata": {
  "kernelspec": {
   "display_name": "Python 3 (ipykernel)",
   "language": "python",
   "name": "python3"
  },
  "language_info": {
   "codemirror_mode": {
    "name": "ipython",
    "version": 3
   },
   "file_extension": ".py",
   "mimetype": "text/x-python",
   "name": "python",
   "nbconvert_exporter": "python",
   "pygments_lexer": "ipython3",
   "version": "3.7.13"
  }
 },
 "nbformat": 4,
 "nbformat_minor": 2
}
